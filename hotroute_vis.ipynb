{
 "cells": [
  {
   "cell_type": "code",
   "execution_count": 1,
   "metadata": {
    "collapsed": false
   },
   "outputs": [
    {
     "ename": "ImportError",
     "evalue": "No module named csvs",
     "output_type": "error",
     "traceback": [
      "\u001b[1;31m---------------------------------------------------------------------------\u001b[0m",
      "\u001b[1;31mImportError\u001b[0m                               Traceback (most recent call last)",
      "\u001b[1;32m<ipython-input-1-64b6e7bd7d19>\u001b[0m in \u001b[0;36m<module>\u001b[1;34m()\u001b[0m\n\u001b[0;32m      1\u001b[0m \u001b[0mget_ipython\u001b[0m\u001b[1;33m(\u001b[0m\u001b[1;33m)\u001b[0m\u001b[1;33m.\u001b[0m\u001b[0mmagic\u001b[0m\u001b[1;33m(\u001b[0m\u001b[1;34mu'matplotlib inline'\u001b[0m\u001b[1;33m)\u001b[0m\u001b[1;33m\u001b[0m\u001b[0m\n\u001b[1;32m----> 2\u001b[1;33m \u001b[1;32mimport\u001b[0m \u001b[0mcsvs\u001b[0m\u001b[1;33m\u001b[0m\u001b[0m\n\u001b[0m\u001b[0;32m      3\u001b[0m \u001b[1;32mimport\u001b[0m \u001b[0mmatplotlib\u001b[0m\u001b[1;33m.\u001b[0m\u001b[0mpyplot\u001b[0m \u001b[1;32mas\u001b[0m \u001b[0mplt\u001b[0m\u001b[1;33m\u001b[0m\u001b[0m\n\u001b[0;32m      4\u001b[0m \u001b[1;32mimport\u001b[0m \u001b[0mpandas\u001b[0m\u001b[1;33m\u001b[0m\u001b[0m\n\u001b[0;32m      5\u001b[0m \u001b[1;32mimport\u001b[0m \u001b[0mscipy\u001b[0m\u001b[1;33m\u001b[0m\u001b[0m\n",
      "\u001b[1;31mImportError\u001b[0m: No module named csvs"
     ]
    }
   ],
   "source": [
    "%matplotlib inline\n",
    "import csv\n",
    "import matplotlib.pyplot as plt\n",
    "import pandas\n",
    "import scipy"
   ]
  },
  {
   "cell_type": "code",
   "execution_count": null,
   "metadata": {
    "collapsed": true
   },
   "outputs": [],
   "source": [
    "import hotroutes as H"
   ]
  },
  {
   "cell_type": "markdown",
   "metadata": {},
   "source": [
    "# Hot Route Analysis and Visualization"
   ]
  },
  {
   "cell_type": "markdown",
   "metadata": {},
   "source": [
    "## Exploring the data"
   ]
  },
  {
   "cell_type": "code",
   "execution_count": null,
   "metadata": {
    "collapsed": false
   },
   "outputs": [],
   "source": [
    "d = pandas.read_csv('./rides.csv')\n",
    "d.head()"
   ]
  },
  {
   "cell_type": "code",
   "execution_count": null,
   "metadata": {
    "collapsed": false
   },
   "outputs": [],
   "source": [
    "d.describe()"
   ]
  },
  {
   "cell_type": "markdown",
   "metadata": {},
   "source": [
    "### Plotting with map overlay"
   ]
  },
  {
   "cell_type": "code",
   "execution_count": null,
   "metadata": {
    "collapsed": false
   },
   "outputs": [],
   "source": [
    "d2 = d[['start_lat', 'start_lng']]\n",
    "d2.shape"
   ]
  },
  {
   "cell_type": "code",
   "execution_count": null,
   "metadata": {
    "collapsed": false
   },
   "outputs": [],
   "source": [
    "def plot_pickups():\n",
    "    plt.figure(figsize=(8, 12))\n",
    "    d2t = d2.tail(50000)\n",
    "    plt.scatter(x=d2t.start_lng, y=d2t.start_lat, marker='o', alpha=0.05);\n",
    "    plt.xlim((-74.025, -73.92))\n",
    "    plt.ylim((40.65, 40.85))\n",
    "\n",
    "plot_pickups()"
   ]
  },
  {
   "cell_type": "markdown",
   "metadata": {},
   "source": [
    "Looks like NYC to me... lat and lng check out"
   ]
  },
  {
   "cell_type": "markdown",
   "metadata": {},
   "source": [
    "#### A couple of taxi rides..."
   ]
  },
  {
   "cell_type": "code",
   "execution_count": null,
   "metadata": {
    "collapsed": false
   },
   "outputs": [],
   "source": [
    "d.iloc[0, [2, 3, 5, 6]]"
   ]
  },
  {
   "cell_type": "code",
   "execution_count": null,
   "metadata": {
    "collapsed": false
   },
   "outputs": [],
   "source": [
    "def plot_rides(rides):\n",
    "    plt.figure(figsize=(8, 12))\n",
    "    d2t = d2.tail(50000)\n",
    "    plt.scatter(x=d2t.start_lng, y=d2t.start_lat, marker='o', alpha=0.05);\n",
    "    plt.xlim((-74.025, -73.92))\n",
    "    plt.ylim((40.65, 40.85))\n",
    "    for [x0, y0, x1, y1] in rides:\n",
    "        plt.plot([x0, x1], [y0, y1], color='r', linewidth=2)\n",
    "\n",
    "# lines for rides, let's choose 25\n",
    "rides = []\n",
    "for i in range(25):\n",
    "    ride = d.iloc[i, [2, 3, 5, 6]]\n",
    "    rides.append([\n",
    "        ride.start_lng, ride.start_lat, ride.end_lng, ride.end_lat\n",
    "    ])\n",
    "\n",
    "plot_rides(rides)"
   ]
  },
  {
   "cell_type": "markdown",
   "metadata": {},
   "source": [
    "## Load / Generate my solution for 5 best hotroutes"
   ]
  },
  {
   "cell_type": "markdown",
   "metadata": {},
   "source": [
    "### The bad way"
   ]
  },
  {
   "cell_type": "markdown",
   "metadata": {},
   "source": [
    "If the file './hotroutes.old.csv' exists, load it. If not, too bad, we're not going to generate it"
   ]
  },
  {
   "cell_type": "code",
   "execution_count": null,
   "metadata": {
    "collapsed": false
   },
   "outputs": [],
   "source": [
    "def load_hotroutes():\n",
    "    with open('./hotroutes.old.csv', 'r') as f:\n",
    "        return list(csv.DictReader(f))\n",
    "\n",
    "try:\n",
    "    hr = load_hotroutes()\n",
    "except IOError:\n",
    "    hr = []"
   ]
  },
  {
   "cell_type": "markdown",
   "metadata": {
    "collapsed": true
   },
   "source": [
    "#### Plot these hotroutes on the same maps"
   ]
  },
  {
   "cell_type": "code",
   "execution_count": null,
   "metadata": {
    "collapsed": false
   },
   "outputs": [],
   "source": [
    "rides = [\n",
    "    [row['start_lng'], row['start_lat'], row['end_lng'], row['end_lat']]\n",
    "    for row in hr\n",
    "]\n",
    "\n",
    "plot_rides(rides)"
   ]
  },
  {
   "cell_type": "markdown",
   "metadata": {},
   "source": [
    "Well that was pretty awful... What happened?"
   ]
  },
  {
   "cell_type": "markdown",
   "metadata": {
    "collapsed": true
   },
   "source": [
    "### The Good Way"
   ]
  },
  {
   "cell_type": "markdown",
   "metadata": {},
   "source": [
    "We have a huge list of pickup and drop off times. Previously, I was randomly generating routes from the square these values were in; why not just choose these values exactly? Bound to get me pretty close to the desired answer."
   ]
  },
  {
   "cell_type": "markdown",
   "metadata": {
    "collapsed": true
   },
   "source": [
    "If the file './hotroutes.csv' exists, load it. If not, generate it by a call to\n",
    "```python\n",
    "H.main(nRoutes=10000, nRides=10000)\n",
    "```"
   ]
  },
  {
   "cell_type": "code",
   "execution_count": null,
   "metadata": {
    "collapsed": true
   },
   "outputs": [],
   "source": [
    "def load_hotroutes():\n",
    "    with open('./hotroutes.csv', 'r') as f:\n",
    "        return list(csv.DictReader(f))\n",
    "\n",
    "try:\n",
    "    hr = load_hotroutes()\n",
    "except IOError:\n",
    "    H.main(nRoutes=10000, nRides=10000)\n",
    "    hr = load_hotroutes()"
   ]
  },
  {
   "cell_type": "code",
   "execution_count": null,
   "metadata": {
    "collapsed": false
   },
   "outputs": [],
   "source": [
    "rides = [\n",
    "    [row['start_lng'], row['start_lat'], row['end_lng'], row['end_lat']]\n",
    "    for row in hr\n",
    "]\n",
    "\n",
    "plot_rides(rides)"
   ]
  },
  {
   "cell_type": "code",
   "execution_count": null,
   "metadata": {
    "collapsed": false
   },
   "outputs": [],
   "source": [
    "for row in hr:\n",
    "    print \"({}, {})\".format(row['start_lat'], row['start_lng'])\n",
    "    print \"({}, {})\".format(row['end_lat'], row['end_lng'])\n",
    "    print \"\""
   ]
  },
  {
   "cell_type": "markdown",
   "metadata": {
    "collapsed": true
   },
   "source": [
    "## Final Thoughts"
   ]
  },
  {
   "cell_type": "markdown",
   "metadata": {},
   "source": [
    "Basically, I think I went about this all the wrong way. There were at least a few things I forgot to take into account:\n",
    "\n",
    "+ the time it takes to make a trip affects the number of rides (really, should max the rate of rides)\n",
    "+ a ride should be weighted by the sum of itself and its backward piece\n",
    "+ by not having a cutoff in the weighting function, I think I probably arbitrarily just chose the center of population as my center point for everything.\n",
    "\n",
    "Anyway... it was fun! But I don't think I 'got it'."
   ]
  }
 ],
 "metadata": {
  "kernelspec": {
   "display_name": "Python 2",
   "language": "python",
   "name": "python2"
  },
  "language_info": {
   "codemirror_mode": {
    "name": "ipython",
    "version": 2
   },
   "file_extension": ".py",
   "mimetype": "text/x-python",
   "name": "python",
   "nbconvert_exporter": "python",
   "pygments_lexer": "ipython2",
   "version": "2.7.6"
  }
 },
 "nbformat": 4,
 "nbformat_minor": 0
}
